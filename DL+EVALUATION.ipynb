{
 "cells": [
  {
   "cell_type": "code",
   "execution_count": 159,
   "metadata": {},
   "outputs": [],
   "source": [
    "from tensorflow.keras.preprocessing.image import ImageDataGenerator\n",
    "from tensorflow import set_random_seed\n",
    "set_random_seed(2)\n",
    "from numpy.random import seed\n",
    "seed(2)"
   ]
  },
  {
   "cell_type": "code",
   "execution_count": 160,
   "metadata": {},
   "outputs": [],
   "source": [
    "from tensorflow.keras.models import Sequential\n",
    "from tensorflow.keras.layers import Conv2D,MaxPooling2D,Activation,Dropout,Flatten,Dense\n",
    "from tensorflow.keras import backend as K\n"
   ]
  },
  {
   "cell_type": "code",
   "execution_count": 161,
   "metadata": {},
   "outputs": [],
   "source": [
    "img_width=100\n",
    "img_height=100\n",
    "nb_train=649\n",
    "nb_valid=153"
   ]
  },
  {
   "cell_type": "code",
   "execution_count": 183,
   "metadata": {},
   "outputs": [],
   "source": [
    "train_data_dir=\"C:\\\\Users\\\\exam\\\\Desktop\\\\Set-1\\\\train\"\n",
    "validation_data_dir=\"C:\\\\Users\\\\exam\\\\Desktop\\\\Set-1\\\\test\"\n",
    "epochs=10\n",
    "batch_size=10"
   ]
  },
  {
   "cell_type": "code",
   "execution_count": 184,
   "metadata": {},
   "outputs": [],
   "source": [
    "if K.image_data_format=='channels_first':\n",
    "    input_shape=(3,img_width,img_height)\n",
    "else:\n",
    "    input_shape=(img_width,img_height,3)"
   ]
  },
  {
   "cell_type": "code",
   "execution_count": 185,
   "metadata": {},
   "outputs": [],
   "source": [
    "model=Sequential()\n",
    "model.add(Conv2D(32,(3,3),input_shape=input_shape))\n",
    "model.add(Activation('relu'))\n",
    "model.add(MaxPooling2D(pool_size=(2,2)))\n",
    "\n",
    "\n",
    "model.add(Conv2D(32,(3,3),input_shape=input_shape))\n",
    "model.add(Activation('relu'))\n",
    "model.add(MaxPooling2D(pool_size=(2,2)))\n",
    "\n",
    "model.add(Conv2D(32,(3,3),input_shape=input_shape))\n",
    "model.add(Activation('relu'))\n",
    "model.add(MaxPooling2D(pool_size=(2,2)))\n",
    "\n",
    "\n",
    "model.add(Conv2D(32,(3,3),input_shape=input_shape))\n",
    "model.add(Activation('relu'))\n",
    "model.add(MaxPooling2D(pool_size=(2,2)))\n",
    "\n",
    "\n",
    "model.add(Flatten())\n",
    "model.add(Dense(64))\n",
    "model.add(Activation('relu'))\n",
    "model.add(Dropout(0.5))\n",
    "model.add(Dense(5))\n",
    "model.add(Activation('sigmoid'))\n"
   ]
  },
  {
   "cell_type": "code",
   "execution_count": 186,
   "metadata": {},
   "outputs": [],
   "source": [
    "model.compile(loss='categorical_crossentropy',optimizer='rmsprop',metrics=['accuracy'])"
   ]
  },
  {
   "cell_type": "code",
   "execution_count": 187,
   "metadata": {},
   "outputs": [],
   "source": [
    "train_datagen=ImageDataGenerator(rescale=1. /255,shear_range=0.2,zoom_range=0.2,horizontal_flip=True)\n",
    "test_datagen=ImageDataGenerator(rescale=1. /255)"
   ]
  },
  {
   "cell_type": "code",
   "execution_count": 188,
   "metadata": {},
   "outputs": [
    {
     "name": "stdout",
     "output_type": "stream",
     "text": [
      "Found 649 images belonging to 5 classes.\n",
      "{'Apple Crimson Snow': 0, 'Banana': 1, 'Cactus fruit': 2, 'Kiwi': 3, 'Mango': 4}\n"
     ]
    }
   ],
   "source": [
    "train_generator=train_datagen.flow_from_directory(train_data_dir,target_size=(img_width,img_height),batch_size=batch_size,\n",
    "                                                 class_mode='categorical')\n",
    "print(train_generator.class_indices)"
   ]
  },
  {
   "cell_type": "code",
   "execution_count": 189,
   "metadata": {},
   "outputs": [
    {
     "name": "stdout",
     "output_type": "stream",
     "text": [
      "Found 153 images belonging to 5 classes.\n"
     ]
    }
   ],
   "source": [
    "valid_generator=test_datagen.flow_from_directory(validation_data_dir,target_size=(img_width,img_height),batch_size=batch_size,\n",
    "                                                 class_mode='categorical')"
   ]
  },
  {
   "cell_type": "code",
   "execution_count": null,
   "metadata": {},
   "outputs": [
    {
     "name": "stdout",
     "output_type": "stream",
     "text": [
      "Epoch 1/10\n",
      "649/649 [==============================] - 60s 92ms/step - loss: nan - acc: 0.1618 - val_loss: nan - val_acc: 0.2802\n",
      "Epoch 2/10\n",
      "649/649 [==============================] - 59s 91ms/step - loss: nan - acc: 0.1620 - val_loss: nan - val_acc: 0.2829\n",
      "Epoch 3/10\n",
      "649/649 [==============================] - 58s 90ms/step - loss: nan - acc: 0.1615 - val_loss: nan - val_acc: 0.2829\n",
      "Epoch 4/10\n",
      "649/649 [==============================] - 58s 90ms/step - loss: nan - acc: 0.1618 - val_loss: nan - val_acc: 0.2836\n",
      "Epoch 5/10\n",
      "649/649 [==============================] - 59s 91ms/step - loss: nan - acc: 0.1625 - val_loss: nan - val_acc: 0.2815\n",
      "Epoch 6/10\n",
      "649/649 [==============================] - 58s 90ms/step - loss: nan - acc: 0.1604 - val_loss: nan - val_acc: 0.2802\n",
      "Epoch 7/10\n",
      "649/649 [==============================] - 58s 90ms/step - loss: nan - acc: 0.1637 - val_loss: nan - val_acc: 0.2815\n",
      "Epoch 8/10\n",
      "649/649 [==============================] - 59s 90ms/step - loss: nan - acc: 0.1604 - val_loss: nan - val_acc: 0.2788\n",
      "Epoch 9/10\n",
      "649/649 [==============================] - 59s 90ms/step - loss: nan - acc: 0.1628 - val_loss: nan - val_acc: 0.2815\n",
      "Epoch 10/10\n",
      "135/649 [=====>........................] - ETA: 42s - loss: nan - acc: 0.1564"
     ]
    }
   ],
   "source": [
    "import scipy.ndimage\n",
    "history=model.fit_generator(train_generator,steps_per_epoch=nb_train,epochs=epochs,\n",
    "                            validation_data=valid_generator,validation_steps=nb_valid)"
   ]
  },
  {
   "cell_type": "code",
   "execution_count": 178,
   "metadata": {},
   "outputs": [
    {
     "data": {
      "text/plain": [
       "Text(0.5, 1.0, 'Training,Validation accuracy')"
      ]
     },
     "execution_count": 178,
     "metadata": {},
     "output_type": "execute_result"
    },
    {
     "data": {
      "image/png": "[encoded data removed]",
      "text/plain": [
       "<Figure size 432x288 with 1 Axes>"
      ]
     },
     "metadata": {
      "needs_background": "light"
     },
     "output_type": "display_data"
    }
   ],
   "source": [
    "import matplotlib.pyplot as plt\n",
    "%matplotlib inline\n",
    "acc=history.history['acc']\n",
    "val_acc=history.history['val_acc']\n",
    "loss=history.history['loss']\n",
    "val_loss=history.history['val_loss']\n",
    "epochs=range(len(acc))\n",
    "plt.plot(epochs,acc,label='Training')\n",
    "plt.plot(epochs,val_acc,label='validation')\n",
    "plt.title('Training,Validation accuracy')\n",
    "#plt.xlabel()\n",
    "#plt.ylabel()\n"
   ]
  },
  {
   "cell_type": "code",
   "execution_count": 182,
   "metadata": {},
   "outputs": [
    {
     "data": {
      "text/plain": [
       "Text(0.5, 1.0, 'Training,Validation Loss')"
      ]
     },
     "execution_count": 182,
     "metadata": {},
     "output_type": "execute_result"
    },
    {
     "data": {
      "image/png": "[encoded data removed]",
      "text/plain": [
       "<Figure size 432x288 with 1 Axes>"
      ]
     },
     "metadata": {
      "needs_background": "light"
     },
     "output_type": "display_data"
    }
   ],
   "source": [
    "plt.plot(epochs,loss,label='Training')\n",
    "plt.plot(epochs,val_loss,label='validation')\n",
    "plt.title('Training,Validation Loss')"
   ]
  },
  {
   "cell_type": "code",
   "execution_count": 179,
   "metadata": {},
   "outputs": [],
   "source": [
    "from tensorflow.keras.models import load_model\n",
    "from tensorflow.keras.preprocessing import image\n",
    "import numpy as np\n",
    "from os import listdir\n",
    "from os.path import isfile,join"
   ]
  },
  {
   "cell_type": "code",
   "execution_count": 180,
   "metadata": {},
   "outputs": [
    {
     "name": "stdout",
     "output_type": "stream",
     "text": [
      "['100_100.jpg', '102_100.jpg', '110_100.jpg', '111_100.jpg', '115_100.jpg', '116_100.jpg', '120_100.jpg', '123_100.jpg', '129_100.jpg', '132_100.jpg', '144_100.jpg', '148_100.jpg', '153_100.jpg', '162_100.jpg', '166_100.jpg', '16_100.jpg', '17_100.jpg', '195_100.jpg', '196_100.jpg', '207_100.jpg', '213_100.jpg', '249_100.jpg', '252_100.jpg', '255_100.jpg', '25_100.jpg', '263_100.jpg', '296_100.jpg', '29_100.jpg', '301_100.jpg', '310_100.jpg', '46_100.jpg', '86_100.jpg', '96_100.jpg', '98_100.jpg', 'r_15_100.jpg', 'r_18_100.jpg', 'r_268_100.jpg', 'r_4_100.jpg', 'r_6_100.jpg']\n",
      "100_100.jpg:Apple\n",
      "102_100.jpg:Banana\n",
      "110_100.jpg:Banana\n",
      "111_100.jpg:Banana\n",
      "115_100.jpg:Banana\n",
      "116_100.jpg:Apple\n",
      "120_100.jpg:Apple\n",
      "123_100.jpg:Apple\n",
      "129_100.jpg:Apple\n",
      "132_100.jpg:Apple\n",
      "144_100.jpg:Apple\n",
      "148_100.jpg:Apple\n",
      "153_100.jpg:Apple\n",
      "162_100.jpg:Apple\n",
      "166_100.jpg:Apple\n",
      "16_100.jpg:Apple\n",
      "17_100.jpg:Apple\n",
      "195_100.jpg:Cactus Fruit\n",
      "196_100.jpg:Cactus Fruit\n",
      "207_100.jpg:Cactus Fruit\n",
      "213_100.jpg:Cactus Fruit\n",
      "249_100.jpg:Cactus Fruit\n",
      "252_100.jpg:Cactus Fruit\n",
      "255_100.jpg:Cactus Fruit\n",
      "25_100.jpg:Apple\n",
      "263_100.jpg:Cactus Fruit\n",
      "296_100.jpg:Apple\n",
      "29_100.jpg:Apple\n",
      "301_100.jpg:Apple\n",
      "310_100.jpg:Cactus Fruit\n",
      "46_100.jpg:Cactus Fruit\n",
      "86_100.jpg:Apple\n",
      "96_100.jpg:Apple\n",
      "98_100.jpg:Banana\n",
      "r_15_100.jpg:Apple\n",
      "r_18_100.jpg:Apple\n",
      "r_268_100.jpg:Cactus Fruit\n",
      "r_4_100.jpg:Cactus Fruit\n",
      "r_6_100.jpg:Cactus Fruit\n",
      "21 5 0 13 0\n"
     ]
    }
   ],
   "source": [
    "valid_data_path=\"C:\\\\Users\\\\exam\\\\Desktop\\\\Set-1\\\\valid\"\n",
    "onlyfiles=[f for f in listdir(valid_data_path) if isfile(join(valid_data_path,f))]\n",
    "print(onlyfiles)\n",
    "apples=0\n",
    "bananas=0\n",
    "kiwis=0\n",
    "cacfruits=0\n",
    "mangoes=0\n",
    "for i in onlyfiles:\n",
    "    img=image.load_img(valid_data_path+\"/\"+i,target_size=(img_width,img_height))\n",
    "    x=image.img_to_array(img)\n",
    "    x=np.expand_dims(x,axis=0)\n",
    "    images=np.vstack([x])\n",
    "    classes=model.predict_classes(images,batch_size=10)\n",
    "    if(classes==0):\n",
    "        print(i+\":\"+'Apple')\n",
    "        apples=apples+1\n",
    "    elif(classes==1):\n",
    "        print(i+\":\"+'Banana')\n",
    "        bananas=bananas+1\n",
    "    elif(classes==2):\n",
    "        print(i+\":\"+'Cactus Fruit')\n",
    "        cacfruits=cacfruits+1\n",
    "    elif(classes==3):\n",
    "        print(i+\":\"+'Kiwi')\n",
    "        kiwis=kiwis+1\n",
    "    elif(classes==4):\n",
    "        print(i+\":\"+'Mango')\n",
    "        mangoes=mangoes+1\n",
    "print(apples,bananas,kiwis,cacfruits,mangoes)"
   ]
  },
  {
   "cell_type": "code",
   "execution_count": 181,
   "metadata": {},
   "outputs": [
    {
     "name": "stdout",
     "output_type": "stream",
     "text": [
      "Confusion Matrix\n"
     ]
    },
    {
     "ename": "ValueError",
     "evalue": "Found input variables with inconsistent numbers of samples: [153, 100]",
     "output_type": "error",
     "traceback": [
      "\u001b[1;31m---------------------------------------------------------------------------\u001b[0m",
      "\u001b[1;31mValueError\u001b[0m                                Traceback (most recent call last)",
      "\u001b[1;32m<ipython-input-181-2627371f421b>\u001b[0m in \u001b[0;36m<module>\u001b[1;34m\u001b[0m\n\u001b[0;32m      3\u001b[0m \u001b[0my_pred\u001b[0m\u001b[1;33m=\u001b[0m\u001b[0mnp\u001b[0m\u001b[1;33m.\u001b[0m\u001b[0margmax\u001b[0m\u001b[1;33m(\u001b[0m\u001b[0mY_pred\u001b[0m\u001b[1;33m,\u001b[0m\u001b[0maxis\u001b[0m\u001b[1;33m=\u001b[0m\u001b[1;36m1\u001b[0m\u001b[1;33m)\u001b[0m\u001b[1;33m\u001b[0m\u001b[1;33m\u001b[0m\u001b[0m\n\u001b[0;32m      4\u001b[0m \u001b[0mprint\u001b[0m\u001b[1;33m(\u001b[0m\u001b[1;34m'Confusion Matrix'\u001b[0m\u001b[1;33m)\u001b[0m\u001b[1;33m\u001b[0m\u001b[1;33m\u001b[0m\u001b[0m\n\u001b[1;32m----> 5\u001b[1;33m \u001b[0mprint\u001b[0m\u001b[1;33m(\u001b[0m\u001b[0mconfusion_matrix\u001b[0m\u001b[1;33m(\u001b[0m\u001b[0mvalid_generator\u001b[0m\u001b[1;33m.\u001b[0m\u001b[0mclasses\u001b[0m\u001b[1;33m,\u001b[0m\u001b[0my_pred\u001b[0m\u001b[1;33m)\u001b[0m\u001b[1;33m)\u001b[0m\u001b[1;33m\u001b[0m\u001b[1;33m\u001b[0m\u001b[0m\n\u001b[0m\u001b[0;32m      6\u001b[0m \u001b[0mprint\u001b[0m\u001b[1;33m(\u001b[0m\u001b[1;34m'Classification Report'\u001b[0m\u001b[1;33m)\u001b[0m\u001b[1;33m\u001b[0m\u001b[1;33m\u001b[0m\u001b[0m\n\u001b[0;32m      7\u001b[0m \u001b[0mtarget_names\u001b[0m\u001b[1;33m=\u001b[0m\u001b[1;33m[\u001b[0m\u001b[1;34m'Apple Crimson Snow'\u001b[0m\u001b[1;33m,\u001b[0m\u001b[1;34m'Banana'\u001b[0m\u001b[1;33m,\u001b[0m\u001b[1;34m'Cactus Fruit'\u001b[0m\u001b[1;33m,\u001b[0m\u001b[1;34m'Kiwi'\u001b[0m\u001b[1;33m,\u001b[0m\u001b[1;34m'Mango'\u001b[0m\u001b[1;33m]\u001b[0m\u001b[1;33m\u001b[0m\u001b[1;33m\u001b[0m\u001b[0m\n",
      "\u001b[1;32mC:\\ProgramData\\Anaconda3\\envs\\neuralnets\\lib\\site-packages\\sklearn\\metrics\\classification.py\u001b[0m in \u001b[0;36mconfusion_matrix\u001b[1;34m(y_true, y_pred, labels, sample_weight)\u001b[0m\n\u001b[0;32m    251\u001b[0m \u001b[1;33m\u001b[0m\u001b[0m\n\u001b[0;32m    252\u001b[0m     \"\"\"\n\u001b[1;32m--> 253\u001b[1;33m     \u001b[0my_type\u001b[0m\u001b[1;33m,\u001b[0m \u001b[0my_true\u001b[0m\u001b[1;33m,\u001b[0m \u001b[0my_pred\u001b[0m \u001b[1;33m=\u001b[0m \u001b[0m_check_targets\u001b[0m\u001b[1;33m(\u001b[0m\u001b[0my_true\u001b[0m\u001b[1;33m,\u001b[0m \u001b[0my_pred\u001b[0m\u001b[1;33m)\u001b[0m\u001b[1;33m\u001b[0m\u001b[1;33m\u001b[0m\u001b[0m\n\u001b[0m\u001b[0;32m    254\u001b[0m     \u001b[1;32mif\u001b[0m \u001b[0my_type\u001b[0m \u001b[1;32mnot\u001b[0m \u001b[1;32min\u001b[0m \u001b[1;33m(\u001b[0m\u001b[1;34m\"binary\"\u001b[0m\u001b[1;33m,\u001b[0m \u001b[1;34m\"multiclass\"\u001b[0m\u001b[1;33m)\u001b[0m\u001b[1;33m:\u001b[0m\u001b[1;33m\u001b[0m\u001b[1;33m\u001b[0m\u001b[0m\n\u001b[0;32m    255\u001b[0m         \u001b[1;32mraise\u001b[0m \u001b[0mValueError\u001b[0m\u001b[1;33m(\u001b[0m\u001b[1;34m\"%s is not supported\"\u001b[0m \u001b[1;33m%\u001b[0m \u001b[0my_type\u001b[0m\u001b[1;33m)\u001b[0m\u001b[1;33m\u001b[0m\u001b[1;33m\u001b[0m\u001b[0m\n",
      "\u001b[1;32mC:\\ProgramData\\Anaconda3\\envs\\neuralnets\\lib\\site-packages\\sklearn\\metrics\\classification.py\u001b[0m in \u001b[0;36m_check_targets\u001b[1;34m(y_true, y_pred)\u001b[0m\n\u001b[0;32m     69\u001b[0m     \u001b[0my_pred\u001b[0m \u001b[1;33m:\u001b[0m \u001b[0marray\u001b[0m \u001b[1;32mor\u001b[0m \u001b[0mindicator\u001b[0m \u001b[0mmatrix\u001b[0m\u001b[1;33m\u001b[0m\u001b[1;33m\u001b[0m\u001b[0m\n\u001b[0;32m     70\u001b[0m     \"\"\"\n\u001b[1;32m---> 71\u001b[1;33m     \u001b[0mcheck_consistent_length\u001b[0m\u001b[1;33m(\u001b[0m\u001b[0my_true\u001b[0m\u001b[1;33m,\u001b[0m \u001b[0my_pred\u001b[0m\u001b[1;33m)\u001b[0m\u001b[1;33m\u001b[0m\u001b[1;33m\u001b[0m\u001b[0m\n\u001b[0m\u001b[0;32m     72\u001b[0m     \u001b[0mtype_true\u001b[0m \u001b[1;33m=\u001b[0m \u001b[0mtype_of_target\u001b[0m\u001b[1;33m(\u001b[0m\u001b[0my_true\u001b[0m\u001b[1;33m)\u001b[0m\u001b[1;33m\u001b[0m\u001b[1;33m\u001b[0m\u001b[0m\n\u001b[0;32m     73\u001b[0m     \u001b[0mtype_pred\u001b[0m \u001b[1;33m=\u001b[0m \u001b[0mtype_of_target\u001b[0m\u001b[1;33m(\u001b[0m\u001b[0my_pred\u001b[0m\u001b[1;33m)\u001b[0m\u001b[1;33m\u001b[0m\u001b[1;33m\u001b[0m\u001b[0m\n",
      "\u001b[1;32mC:\\ProgramData\\Anaconda3\\envs\\neuralnets\\lib\\site-packages\\sklearn\\utils\\validation.py\u001b[0m in \u001b[0;36mcheck_consistent_length\u001b[1;34m(*arrays)\u001b[0m\n\u001b[0;32m    233\u001b[0m     \u001b[1;32mif\u001b[0m \u001b[0mlen\u001b[0m\u001b[1;33m(\u001b[0m\u001b[0muniques\u001b[0m\u001b[1;33m)\u001b[0m \u001b[1;33m>\u001b[0m \u001b[1;36m1\u001b[0m\u001b[1;33m:\u001b[0m\u001b[1;33m\u001b[0m\u001b[1;33m\u001b[0m\u001b[0m\n\u001b[0;32m    234\u001b[0m         raise ValueError(\"Found input variables with inconsistent numbers of\"\n\u001b[1;32m--> 235\u001b[1;33m                          \" samples: %r\" % [int(l) for l in lengths])\n\u001b[0m\u001b[0;32m    236\u001b[0m \u001b[1;33m\u001b[0m\u001b[0m\n\u001b[0;32m    237\u001b[0m \u001b[1;33m\u001b[0m\u001b[0m\n",
      "\u001b[1;31mValueError\u001b[0m: Found input variables with inconsistent numbers of samples: [153, 100]"
     ]
    }
   ],
   "source": [
    "from sklearn.metrics import classification_report,confusion_matrix\n",
    "Y_pred=model.predict_generator(valid_generator,batch_size)\n",
    "y_pred=np.argmax(Y_pred,axis=1)\n",
    "print('Confusion Matrix')\n",
    "print(confusion_matrix(valid_generator.classes,y_pred))\n",
    "print('Classification Report')\n",
    "target_names=['Apple Crimson Snow','Banana','Cactus Fruit','Kiwi','Mango']\n",
    "print(classification_report(valid_generator_classes,y_pred,target_names=target_names))"
   ]
  },
  {
   "cell_type": "code",
   "execution_count": null,
   "metadata": {},
   "outputs": [],
   "source": []
  }
 ],
 "metadata": {
  "kernelspec": {
   "display_name": "Python 3",
   "language": "python",
   "name": "python3"
  },
  "language_info": {
   "codemirror_mode": {
    "name": "ipython",
    "version": 3
   },
   "file_extension": ".py",
   "mimetype": "text/x-python",
   "name": "python",
   "nbconvert_exporter": "python",
   "pygments_lexer": "ipython3",
   "version": "3.7.4"
  }
 },
 "nbformat": 4,
 "nbformat_minor": 2
}
