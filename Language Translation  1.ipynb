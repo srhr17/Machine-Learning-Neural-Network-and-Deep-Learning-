{
 "cells": [
  {
   "cell_type": "code",
   "execution_count": 63,
   "metadata": {},
   "outputs": [],
   "source": [
    "from keras.models import Sequential\n",
    "from keras.layers import Dense,LSTM,Embedding,RepeatVector,Bidirectional,TimeDistributed\n",
    "from keras.preprocessing.text import Tokenizer\n",
    "from keras.preprocessing.sequence import pad_sequences\n",
    "import pandas as pd \n",
    "import numpy as np"
   ]
  },
  {
   "cell_type": "code",
   "execution_count": 64,
   "metadata": {},
   "outputs": [],
   "source": [
    "# function to read raw text file\n",
    "def read_text(filename):\n",
    "    # open the file\n",
    "    file = open(filename, mode='rt', encoding='utf-8')\n",
    "    # read all text\n",
    "    text = file.read()\n",
    "    file.close()\n",
    "    return text"
   ]
  },
  {
   "cell_type": "code",
   "execution_count": 65,
   "metadata": {},
   "outputs": [],
   "source": [
    "# split a text into sentences\n",
    "def to_lines(text):\n",
    "    sents = text.strip().split('\\n')\n",
    "    sents = [i.split('\\t') for i in sents]\n",
    "    return sents"
   ]
  },
  {
   "cell_type": "code",
   "execution_count": 66,
   "metadata": {},
   "outputs": [],
   "source": [
    "data = read_text(\"heb.txt\")\n",
    "deu_eng = to_lines(data)\n",
    "deu_eng = np.array(deu_eng)"
   ]
  },
  {
   "cell_type": "code",
   "execution_count": 67,
   "metadata": {},
   "outputs": [],
   "source": [
    "deu_eng = deu_eng[:50000,:]"
   ]
  },
  {
   "cell_type": "code",
   "execution_count": 68,
   "metadata": {
    "scrolled": true
   },
   "outputs": [
    {
     "data": {
      "text/plain": [
       "array([['Hi.', 'היי.',\n",
       "        'CC-BY 2.0 (France) Attribution: tatoeba.org #538123 (CM) & #694680 (Eldad)'],\n",
       "       ['Hi.', 'אהלן.',\n",
       "        'CC-BY 2.0 (France) Attribution: tatoeba.org #538123 (CM) & #2184365 (MrShoval)'],\n",
       "       ['Run!', 'רוץ!',\n",
       "        'CC-BY 2.0 (France) Attribution: tatoeba.org #906328 (papabear) & #2805053 (Eldad)'],\n",
       "       ...,\n",
       "       [\"You're definitely crazy.\", 'אתם בוודאות משוגעים.',\n",
       "        'CC-BY 2.0 (France) Attribution: tatoeba.org #2545659 (CK) & #4676062 (fekundulo)'],\n",
       "       [\"You're definitely crazy.\", 'את בוודאות משוגעת.',\n",
       "        'CC-BY 2.0 (France) Attribution: tatoeba.org #2545659 (CK) & #4676064 (fekundulo)'],\n",
       "       [\"You're driving me crazy.\", 'את מטריפה אותי.',\n",
       "        'CC-BY 2.0 (France) Attribution: tatoeba.org #1895620 (CK) & #5820028 (fekundulo)']],\n",
       "      dtype='<U286')"
      ]
     },
     "execution_count": 68,
     "metadata": {},
     "output_type": "execute_result"
    }
   ],
   "source": [
    "deu_eng"
   ]
  },
  {
   "cell_type": "code",
   "execution_count": 69,
   "metadata": {},
   "outputs": [],
   "source": [
    "import string\n",
    "# Remove punctuation\n",
    "deu_eng[:,0] = [s.translate(str.maketrans('', '', string.punctuation)) for s in deu_eng[:,0]]\n",
    "deu_eng[:,1] = [s.translate(str.maketrans('', '', string.punctuation)) for s in deu_eng[:,1]]"
   ]
  },
  {
   "cell_type": "code",
   "execution_count": 70,
   "metadata": {},
   "outputs": [],
   "source": [
    "# convert to lowercase\n",
    "for i in range(len(deu_eng)):\n",
    "    deu_eng[i,0] = deu_eng[i,0].lower()\n",
    "    \n",
    "    deu_eng[i,1] = deu_eng[i,1].lower()"
   ]
  },
  {
   "cell_type": "code",
   "execution_count": 71,
   "metadata": {},
   "outputs": [],
   "source": [
    "# empty lists\n",
    "eng_l = []\n",
    "deu_l = []\n",
    "\n",
    "# populate the lists with sentence lengths\n",
    "for i in deu_eng[:,0]:\n",
    "    eng_l.append(len(i.split()))\n",
    "\n",
    "for i in deu_eng[:,1]:\n",
    "    deu_l.append(len(i.split()))"
   ]
  },
  {
   "cell_type": "code",
   "execution_count": 72,
   "metadata": {},
   "outputs": [],
   "source": [
    "length_df = pd.DataFrame({'eng':eng_l, 'deu':deu_l})"
   ]
  },
  {
   "cell_type": "code",
   "execution_count": 73,
   "metadata": {},
   "outputs": [],
   "source": [
    "import matplotlib.pyplot as plt\n",
    "%matplotlib inline"
   ]
  },
  {
   "cell_type": "code",
   "execution_count": 74,
   "metadata": {},
   "outputs": [
    {
     "data": {
      "image/png": "[encoded data removed]",
      "text/plain": [
       "<Figure size 432x288 with 2 Axes>"
      ]
     },
     "metadata": {
      "needs_background": "light"
     },
     "output_type": "display_data"
    }
   ],
   "source": [
    "length_df.hist(bins = 30)\n",
    "plt.show()"
   ]
  },
  {
   "cell_type": "code",
   "execution_count": 75,
   "metadata": {},
   "outputs": [],
   "source": [
    "# function to build a tokenizer\n",
    "def tokenization(lines):\n",
    "    tokenizer = Tokenizer()\n",
    "    tokenizer.fit_on_texts(lines)\n",
    "    return tokenizer"
   ]
  },
  {
   "cell_type": "code",
   "execution_count": 76,
   "metadata": {},
   "outputs": [
    {
     "name": "stdout",
     "output_type": "stream",
     "text": [
      "English Vocabulary Size: 7407\n"
     ]
    }
   ],
   "source": [
    "# prepare english tokenizer\n",
    "eng_tokenizer = tokenization(deu_eng[:, 0])\n",
    "eng_vocab_size = len(eng_tokenizer.word_index) + 1\n",
    "\n",
    "eng_length = 8\n",
    "print('English Vocabulary Size: %d' % eng_vocab_size)"
   ]
  },
  {
   "cell_type": "code",
   "execution_count": 77,
   "metadata": {},
   "outputs": [
    {
     "name": "stdout",
     "output_type": "stream",
     "text": [
      "Arabic Vocabulary Size: 17905\n"
     ]
    }
   ],
   "source": [
    "# prepare Deutch tokenizer\n",
    "deu_tokenizer = tokenization(deu_eng[:, 1])\n",
    "deu_vocab_size = len(deu_tokenizer.word_index) + 1\n",
    "\n",
    "deu_length = 8\n",
    "print('Arabic Vocabulary Size: %d' % deu_vocab_size)"
   ]
  },
  {
   "cell_type": "code",
   "execution_count": 78,
   "metadata": {},
   "outputs": [],
   "source": [
    "# encode and pad sequences\n",
    "def encode_sequences(tokenizer, length, lines):\n",
    "    # integer encode sequences\n",
    "    seq = tokenizer.texts_to_sequences(lines)\n",
    "    # pad sequences with 0 values\n",
    "    seq = pad_sequences(seq, maxlen=length, padding='post')\n",
    "    return seq"
   ]
  },
  {
   "cell_type": "code",
   "execution_count": 79,
   "metadata": {},
   "outputs": [],
   "source": [
    "from sklearn.model_selection import train_test_split\n",
    "train, test = train_test_split(deu_eng, test_size=0.2, random_state = 12)"
   ]
  },
  {
   "cell_type": "code",
   "execution_count": 80,
   "metadata": {},
   "outputs": [],
   "source": [
    "# prepare training data\n",
    "trainX = encode_sequences(deu_tokenizer, deu_length, train[:, 1])\n",
    "trainY = encode_sequences(eng_tokenizer, eng_length, train[:, 0])"
   ]
  },
  {
   "cell_type": "code",
   "execution_count": 81,
   "metadata": {},
   "outputs": [],
   "source": [
    "# prepare validation data\n",
    "testX = encode_sequences(deu_tokenizer, deu_length, test[:, 1])\n",
    "testY = encode_sequences(eng_tokenizer, eng_length, test[:, 0])"
   ]
  },
  {
   "cell_type": "code",
   "execution_count": 82,
   "metadata": {},
   "outputs": [],
   "source": [
    "model = Sequential()\n",
    "model.add(Embedding(deu_vocab_size, 512, input_length=deu_length, mask_zero=True))\n",
    "model.add(LSTM(512))\n",
    "model.add(RepeatVector(deu_length))\n",
    "model.add(LSTM(512, return_sequences=True))\n",
    "model.add(Dense(eng_vocab_size, activation='softmax'))"
   ]
  },
  {
   "cell_type": "code",
   "execution_count": 83,
   "metadata": {},
   "outputs": [],
   "source": [
    "model.compile(optimizer='RMSprop', loss='sparse_categorical_crossentropy')"
   ]
  },
  {
   "cell_type": "code",
   "execution_count": 84,
   "metadata": {},
   "outputs": [
    {
     "name": "stdout",
     "output_type": "stream",
     "text": [
      "Train on 32000 samples, validate on 8000 samples\n",
      "Epoch 1/30\n",
      "32000/32000 [==============================] - 163s 5ms/step - loss: 3.6403 - val_loss: 3.0067\n",
      "Epoch 2/30\n",
      "32000/32000 [==============================] - 156s 5ms/step - loss: 2.9258 - val_loss: 2.9323\n",
      "Epoch 3/30\n",
      "32000/32000 [==============================] - 161s 5ms/step - loss: 2.7864 - val_loss: 2.7763\n",
      "Epoch 4/30\n",
      "32000/32000 [==============================] - 173s 5ms/step - loss: 2.6260 - val_loss: 2.6716\n",
      "Epoch 5/30\n",
      "32000/32000 [==============================] - 181s 6ms/step - loss: 2.4706 - val_loss: 2.5312\n",
      "Epoch 6/30\n",
      "32000/32000 [==============================] - 182s 6ms/step - loss: 2.3256 - val_loss: 2.4320\n",
      "Epoch 7/30\n",
      "32000/32000 [==============================] - 172s 5ms/step - loss: 2.1890 - val_loss: 2.3781\n",
      "Epoch 8/30\n",
      "32000/32000 [==============================] - 165s 5ms/step - loss: 2.0686 - val_loss: 2.3025\n",
      "Epoch 9/30\n",
      "32000/32000 [==============================] - 162s 5ms/step - loss: 1.9596 - val_loss: 2.2308\n",
      "Epoch 10/30\n",
      "32000/32000 [==============================] - 167s 5ms/step - loss: 1.8562 - val_loss: 2.1823\n",
      "Epoch 11/30\n",
      "32000/32000 [==============================] - 168s 5ms/step - loss: 1.7571 - val_loss: 2.1317\n",
      "Epoch 12/30\n",
      "32000/32000 [==============================] - 164s 5ms/step - loss: 1.6642 - val_loss: 2.0953\n",
      "Epoch 13/30\n",
      "32000/32000 [==============================] - 163s 5ms/step - loss: 1.5742 - val_loss: 2.0613\n",
      "Epoch 14/30\n",
      "32000/32000 [==============================] - 162s 5ms/step - loss: 1.4902 - val_loss: 2.0170\n",
      "Epoch 15/30\n",
      "32000/32000 [==============================] - 162s 5ms/step - loss: 1.4077 - val_loss: 2.0151\n",
      "Epoch 16/30\n",
      "32000/32000 [==============================] - 159s 5ms/step - loss: 1.3300 - val_loss: 1.9653\n",
      "Epoch 17/30\n",
      "32000/32000 [==============================] - 157s 5ms/step - loss: 1.2542 - val_loss: 1.9507\n",
      "Epoch 18/30\n",
      "32000/32000 [==============================] - 168s 5ms/step - loss: 1.1845 - val_loss: 1.9212\n",
      "Epoch 19/30\n",
      "32000/32000 [==============================] - 165s 5ms/step - loss: 1.1138 - val_loss: 1.9039\n",
      "Epoch 20/30\n",
      "32000/32000 [==============================] - 165s 5ms/step - loss: 1.0477 - val_loss: 1.8971\n",
      "Epoch 21/30\n",
      "32000/32000 [==============================] - 163s 5ms/step - loss: 0.9837 - val_loss: 1.8978\n",
      "Epoch 22/30\n",
      "32000/32000 [==============================] - 163s 5ms/step - loss: 0.9228 - val_loss: 1.8728\n",
      "Epoch 23/30\n",
      "32000/32000 [==============================] - 159s 5ms/step - loss: 0.8628 - val_loss: 1.8615\n",
      "Epoch 24/30\n",
      "32000/32000 [==============================] - 158s 5ms/step - loss: 0.8054 - val_loss: 1.8612\n",
      "Epoch 25/30\n",
      "32000/32000 [==============================] - 158s 5ms/step - loss: 0.7512 - val_loss: 1.8541\n",
      "Epoch 26/30\n",
      "32000/32000 [==============================] - 619s 19ms/step - loss: 0.6983 - val_loss: 1.8435\n",
      "Epoch 27/30\n",
      "32000/32000 [==============================] - 158s 5ms/step - loss: 0.6485 - val_loss: 1.8328\n",
      "Epoch 28/30\n",
      "32000/32000 [==============================] - 158s 5ms/step - loss: 0.6001 - val_loss: 1.8410\n",
      "Epoch 29/30\n",
      "32000/32000 [==============================] - 158s 5ms/step - loss: 0.5566 - val_loss: 1.8341\n",
      "Epoch 30/30\n",
      "32000/32000 [==============================] - 159s 5ms/step - loss: 0.5131 - val_loss: 1.8325\n"
     ]
    }
   ],
   "source": [
    "history = model.fit(trainX, trainY.reshape(trainY.shape[0], trainY.shape[1], 1), \n",
    "          epochs=30, batch_size=512, \n",
    "          validation_split = 0.20)"
   ]
  },
  {
   "cell_type": "code",
   "execution_count": 85,
   "metadata": {},
   "outputs": [
    {
     "data": {
      "image/png": "[encoded data removed]",
      "text/plain": [
       "<Figure size 432x288 with 1 Axes>"
      ]
     },
     "metadata": {
      "needs_background": "light"
     },
     "output_type": "display_data"
    }
   ],
   "source": [
    "plt.plot(history.history['loss'])\n",
    "plt.plot(history.history['val_loss'])\n",
    "plt.legend(['train','validation'])\n",
    "plt.show()"
   ]
  },
  {
   "cell_type": "code",
   "execution_count": 86,
   "metadata": {},
   "outputs": [],
   "source": [
    "preds = model.predict_classes(testX.reshape((testX.shape[0],testX.shape[1])))"
   ]
  },
  {
   "cell_type": "code",
   "execution_count": 87,
   "metadata": {},
   "outputs": [],
   "source": [
    "def get_word(n, tokenizer):\n",
    "    for word, index in tokenizer.word_index.items():\n",
    "        if index == n:\n",
    "            return word\n",
    "    return None"
   ]
  },
  {
   "cell_type": "code",
   "execution_count": 88,
   "metadata": {},
   "outputs": [],
   "source": [
    "# convert predictions into text (English)\n",
    "preds_text = []\n",
    "for i in preds:\n",
    "    temp = []\n",
    "    for j in range(len(i)):\n",
    "        t = get_word(i[j], eng_tokenizer)\n",
    "        if j > 0:\n",
    "            if (t == get_word(i[j-1], eng_tokenizer)) or (t == None):\n",
    "                temp.append('')\n",
    "            else:\n",
    "                temp.append(t)\n",
    "             \n",
    "        else:\n",
    "            if(t == None):\n",
    "                temp.append('')\n",
    "            else:\n",
    "                temp.append(t)            \n",
    "        \n",
    "    preds_text.append(' '.join(temp))"
   ]
  },
  {
   "cell_type": "code",
   "execution_count": 89,
   "metadata": {},
   "outputs": [],
   "source": [
    "pred_df = pd.DataFrame({'actual' : test[:,0], 'predicted' : preds_text})"
   ]
  },
  {
   "cell_type": "code",
   "execution_count": 90,
   "metadata": {},
   "outputs": [],
   "source": [
    "pd.set_option('display.max_colwidth', 200)"
   ]
  },
  {
   "cell_type": "code",
   "execution_count": 91,
   "metadata": {},
   "outputs": [
    {
     "data": {
      "text/html": [
       "<div>\n",
       "<style scoped>\n",
       "    .dataframe tbody tr th:only-of-type {\n",
       "        vertical-align: middle;\n",
       "    }\n",
       "\n",
       "    .dataframe tbody tr th {\n",
       "        vertical-align: top;\n",
       "    }\n",
       "\n",
       "    .dataframe thead th {\n",
       "        text-align: right;\n",
       "    }\n",
       "</style>\n",
       "<table border=\"1\" class=\"dataframe\">\n",
       "  <thead>\n",
       "    <tr style=\"text-align: right;\">\n",
       "      <th></th>\n",
       "      <th>actual</th>\n",
       "      <th>predicted</th>\n",
       "    </tr>\n",
       "  </thead>\n",
       "  <tbody>\n",
       "    <tr>\n",
       "      <td>0</td>\n",
       "      <td>the theater is empty</td>\n",
       "      <td>the empty</td>\n",
       "    </tr>\n",
       "    <tr>\n",
       "      <td>1</td>\n",
       "      <td>come again</td>\n",
       "      <td>come again</td>\n",
       "    </tr>\n",
       "    <tr>\n",
       "      <td>2</td>\n",
       "      <td>tom remembers</td>\n",
       "      <td>tom remembered</td>\n",
       "    </tr>\n",
       "    <tr>\n",
       "      <td>3</td>\n",
       "      <td>pick any card</td>\n",
       "      <td>show me another</td>\n",
       "    </tr>\n",
       "    <tr>\n",
       "      <td>4</td>\n",
       "      <td>this is very dangerous</td>\n",
       "      <td>its very dangerous</td>\n",
       "    </tr>\n",
       "    <tr>\n",
       "      <td>5</td>\n",
       "      <td>do you know each other</td>\n",
       "      <td>do you know your</td>\n",
       "    </tr>\n",
       "    <tr>\n",
       "      <td>6</td>\n",
       "      <td>do you think i need one</td>\n",
       "      <td>do you think i need one</td>\n",
       "    </tr>\n",
       "    <tr>\n",
       "      <td>7</td>\n",
       "      <td>i want to speak german</td>\n",
       "      <td>i want to speak an</td>\n",
       "    </tr>\n",
       "    <tr>\n",
       "      <td>8</td>\n",
       "      <td>they all scoffed</td>\n",
       "      <td>they all nuts</td>\n",
       "    </tr>\n",
       "    <tr>\n",
       "      <td>9</td>\n",
       "      <td>its a daunting agenda</td>\n",
       "      <td>its a  day</td>\n",
       "    </tr>\n",
       "    <tr>\n",
       "      <td>10</td>\n",
       "      <td>i felt lonely</td>\n",
       "      <td>i was lonely</td>\n",
       "    </tr>\n",
       "    <tr>\n",
       "      <td>11</td>\n",
       "      <td>im immune</td>\n",
       "      <td>im am</td>\n",
       "    </tr>\n",
       "    <tr>\n",
       "      <td>12</td>\n",
       "      <td>will tom die</td>\n",
       "      <td>tom will</td>\n",
       "    </tr>\n",
       "    <tr>\n",
       "      <td>13</td>\n",
       "      <td>were dating</td>\n",
       "      <td>are going leaving</td>\n",
       "    </tr>\n",
       "    <tr>\n",
       "      <td>14</td>\n",
       "      <td>youre athletic</td>\n",
       "      <td>are you single</td>\n",
       "    </tr>\n",
       "  </tbody>\n",
       "</table>\n",
       "</div>"
      ],
      "text/plain": [
       "                     actual                  predicted\n",
       "0      the theater is empty            the empty      \n",
       "1                come again           come again      \n",
       "2             tom remembers       tom remembered      \n",
       "3             pick any card       show me another     \n",
       "4    this is very dangerous    its very dangerous     \n",
       "5    do you know each other       do you know your    \n",
       "6   do you think i need one  do you think i need one  \n",
       "7    i want to speak german      i want to speak an   \n",
       "8          they all scoffed         they all nuts     \n",
       "9     its a daunting agenda             its a  day    \n",
       "10            i felt lonely          i was lonely     \n",
       "11                im immune                im am      \n",
       "12             will tom die             tom will      \n",
       "13              were dating     are going leaving     \n",
       "14           youre athletic        are you single     "
      ]
     },
     "execution_count": 91,
     "metadata": {},
     "output_type": "execute_result"
    }
   ],
   "source": [
    "pred_df.head(15)"
   ]
  },
  {
   "cell_type": "code",
   "execution_count": 92,
   "metadata": {},
   "outputs": [
    {
     "data": {
      "text/html": [
       "<div>\n",
       "<style scoped>\n",
       "    .dataframe tbody tr th:only-of-type {\n",
       "        vertical-align: middle;\n",
       "    }\n",
       "\n",
       "    .dataframe tbody tr th {\n",
       "        vertical-align: top;\n",
       "    }\n",
       "\n",
       "    .dataframe thead th {\n",
       "        text-align: right;\n",
       "    }\n",
       "</style>\n",
       "<table border=\"1\" class=\"dataframe\">\n",
       "  <thead>\n",
       "    <tr style=\"text-align: right;\">\n",
       "      <th></th>\n",
       "      <th>actual</th>\n",
       "      <th>predicted</th>\n",
       "    </tr>\n",
       "  </thead>\n",
       "  <tbody>\n",
       "    <tr>\n",
       "      <td>9985</td>\n",
       "      <td>are you kidding me</td>\n",
       "      <td>you  me</td>\n",
       "    </tr>\n",
       "    <tr>\n",
       "      <td>9986</td>\n",
       "      <td>dont oppose him</td>\n",
       "      <td>dont let her</td>\n",
       "    </tr>\n",
       "    <tr>\n",
       "      <td>9987</td>\n",
       "      <td>youre introverted</td>\n",
       "      <td>youre awesome</td>\n",
       "    </tr>\n",
       "    <tr>\n",
       "      <td>9988</td>\n",
       "      <td>why dont we all go</td>\n",
       "      <td>why dont we just</td>\n",
       "    </tr>\n",
       "    <tr>\n",
       "      <td>9989</td>\n",
       "      <td>they already left</td>\n",
       "      <td>they left</td>\n",
       "    </tr>\n",
       "    <tr>\n",
       "      <td>9990</td>\n",
       "      <td>i like your coffee</td>\n",
       "      <td>i like your coffee</td>\n",
       "    </tr>\n",
       "    <tr>\n",
       "      <td>9991</td>\n",
       "      <td>is that too much</td>\n",
       "      <td>is this  that</td>\n",
       "    </tr>\n",
       "    <tr>\n",
       "      <td>9992</td>\n",
       "      <td>turn right</td>\n",
       "      <td>turn it over</td>\n",
       "    </tr>\n",
       "    <tr>\n",
       "      <td>9993</td>\n",
       "      <td>fortune smiled on him</td>\n",
       "      <td>the baby laughed</td>\n",
       "    </tr>\n",
       "    <tr>\n",
       "      <td>9994</td>\n",
       "      <td>keep paging tom</td>\n",
       "      <td>stay on tom</td>\n",
       "    </tr>\n",
       "    <tr>\n",
       "      <td>9995</td>\n",
       "      <td>i waited obediently</td>\n",
       "      <td>i waited</td>\n",
       "    </tr>\n",
       "    <tr>\n",
       "      <td>9996</td>\n",
       "      <td>i retired last year</td>\n",
       "      <td>im retired my</td>\n",
       "    </tr>\n",
       "    <tr>\n",
       "      <td>9997</td>\n",
       "      <td>i washed my feet</td>\n",
       "      <td>i fractured my theory</td>\n",
       "    </tr>\n",
       "    <tr>\n",
       "      <td>9998</td>\n",
       "      <td>a thousand yen will do</td>\n",
       "      <td>what a small</td>\n",
       "    </tr>\n",
       "    <tr>\n",
       "      <td>9999</td>\n",
       "      <td>how can we do that</td>\n",
       "      <td>how can we do it</td>\n",
       "    </tr>\n",
       "  </tbody>\n",
       "</table>\n",
       "</div>"
      ],
      "text/plain": [
       "                      actual                  predicted\n",
       "9985      are you kidding me               you  me     \n",
       "9986         dont oppose him          dont let her     \n",
       "9987       youre introverted        youre awesome      \n",
       "9988      why dont we all go       why dont we just    \n",
       "9989       they already left            they left      \n",
       "9990      i like your coffee     i like your coffee    \n",
       "9991        is that too much          is this  that    \n",
       "9992              turn right          turn it over     \n",
       "9993   fortune smiled on him      the baby laughed     \n",
       "9994         keep paging tom           stay on tom     \n",
       "9995     i waited obediently             i waited      \n",
       "9996     i retired last year         im retired my     \n",
       "9997        i washed my feet  i fractured my theory    \n",
       "9998  a thousand yen will do          what a small     \n",
       "9999      how can we do that        how can we do it   "
      ]
     },
     "execution_count": 92,
     "metadata": {},
     "output_type": "execute_result"
    }
   ],
   "source": [
    "pred_df.tail(15)"
   ]
  }
 ],
 "metadata": {
  "kernelspec": {
   "display_name": "Python 3",
   "language": "python",
   "name": "python3"
  },
  "language_info": {
   "codemirror_mode": {
    "name": "ipython",
    "version": 3
   },
   "file_extension": ".py",
   "mimetype": "text/x-python",
   "name": "python",
   "nbconvert_exporter": "python",
   "pygments_lexer": "ipython3",
   "version": "3.7.4"
  }
 },
 "nbformat": 4,
 "nbformat_minor": 2
}
